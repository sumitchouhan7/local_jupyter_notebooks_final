{
 "cells": [
  {
   "cell_type": "code",
   "execution_count": 73,
   "metadata": {
    "scrolled": true
   },
   "outputs": [
    {
     "data": {
      "text/plain": [
       "'\\nidentify users posting number of comments above a specific threshold any given hour of the day\\n'"
      ]
     },
     "execution_count": 73,
     "metadata": {},
     "output_type": "execute_result"
    }
   ],
   "source": [
    "\"\"\"\n",
    "identify users posting number of comments above a specific threshold any given hour of the day\n",
    "\"\"\""
   ]
  },
  {
   "cell_type": "code",
   "execution_count": 113,
   "metadata": {},
   "outputs": [],
   "source": [
    "import requests\n",
    "from datetime import datetime, timedelta\n",
    "import math\n",
    "import time"
   ]
  },
  {
   "cell_type": "code",
   "execution_count": 75,
   "metadata": {},
   "outputs": [],
   "source": [
    "class CustomError(Exception):\n",
    "    \"\"\"\n",
    "    custom exception class\n",
    "    \"\"\"\n",
    "    pass"
   ]
  },
  {
   "cell_type": "code",
   "execution_count": 131,
   "metadata": {},
   "outputs": [],
   "source": [
    "def get_date_time(day_delta):\n",
    "    \"\"\"\n",
    "    returns datetime object for start-of-day day_delta days from the current datetime\n",
    "    \"\"\"\n",
    "    dtime = datetime.now()\n",
    "    dtime = dtime.replace(minute = 0, hour = 0, second = 0, microsecond = 0)\n",
    "    dtime = dtime + timedelta(days = day_delta)\n",
    "    return dtime"
   ]
  },
  {
   "cell_type": "code",
   "execution_count": 133,
   "metadata": {},
   "outputs": [],
   "source": [
    "allowed_channels = \"ET,TOI\"\n",
    "min_doc_count = 30\n",
    "\n",
    "def get_agg_bucket(start_date_time, end_date_time):\n",
    "    \"\"\"\n",
    "    params - \n",
    "    start_date_time, end_date_time -> time range to query in a specific period (in milliseconds)\n",
    "    return - \n",
    "    the aggregation bucket list of json with 'doc_count' and 'key' (as returned by elastic search native api)\n",
    "    \"\"\"\n",
    "    \n",
    "    base_agg_url = \"http://commentmoderator.indiatimes.com/mytimes/elasticCommentQuery?appKey={}&sort=desc&from=0&size=0&aggField=F_ADD&aggSize=150&aggMinDocCount={}&sDateEpoch={:.0f}&eDateEpoch={:.0f}\"\n",
    "    url = base_agg_url.format(allowed_channels, min_doc_count, start_date_time, end_date_time)\n",
    "\n",
    "    print(base_agg_url)\n",
    "    bucket = None\n",
    "    try:\n",
    "        resp = requests.get(url)\n",
    "        if (resp.status_code == 200):\n",
    "            bucket = resp.json()['aggregations']['2']['buckets']\n",
    "        else:\n",
    "            raise CustomError('Aggregation API call failed : Status code : {}'.format(resp.status_code))\n",
    "    except Exception as ex:\n",
    "        template = \"An exception of type {} occurred. Message: {}\"\n",
    "        #message = template.format(type(ex).__name__, ex.args)\n",
    "        message = template.format(type(ex).__name__, ex)\n",
    "        print (message)\n",
    "    \n",
    "    return bucket\n",
    "\n",
    "def get_date_time_from_epoch(time_epoch):\n",
    "    \"\"\"\n",
    "    returns time string formatted in the given format for the given epochs in milliseconds\n",
    "    \"\"\"\n",
    "    return time.strftime('%Y-%m-%d %H:%M:%S', time.localtime(time_epoch/1000))"
   ]
  },
  {
   "cell_type": "code",
   "execution_count": 134,
   "metadata": {
    "scrolled": true
   },
   "outputs": [],
   "source": [
    "def get_list_faulty_users(datetime_obj):\n",
    "    net_list_faulty_users = []\n",
    "    n_hour_interval = 1\n",
    "    n_total_hours = 24\n",
    "\n",
    "    print('date considering : {}'.format(datetime_obj))\n",
    "    #datetime(2019,5,8,0,0)\n",
    "    start_date_time = datetime_obj.timestamp()*1000\n",
    "\n",
    "    for hour_num in range(0, n_total_hours, n_hour_interval):\n",
    "        #calculating end_date_time as n_hour_interval hours from the start_date_time\n",
    "        end_date_time = start_date_time + n_hour_interval*3600*1000\n",
    "        hour_duration = \"{} - {}\".format(get_date_time_from_epoch(start_date_time), get_date_time_from_epoch(end_date_time))\n",
    "\n",
    "        print(\"duration : {}\".format(hour_duration))\n",
    "\n",
    "        for x in get_agg_bucket(start_date_time, end_date_time):\n",
    "            x['duration'] = hour_duration\n",
    "            print(x)\n",
    "            net_list_faulty_users.append(x)\n",
    "        start_date_time = end_date_time\n",
    "    return net_list_faulty_users"
   ]
  },
  {
   "cell_type": "code",
   "execution_count": 135,
   "metadata": {},
   "outputs": [
    {
     "name": "stdout",
     "output_type": "stream",
     "text": [
      "date considering : 2019-06-17 00:00:00\n",
      "duration : 2019-06-17 00:00:00 - 2019-06-17 01:00:00\n",
      "http://commentmoderator.indiatimes.com/mytimes/elasticCommentQuery?appKey={}&sort=desc&from=0&size=0&aggField=F_ADD&aggSize=150&aggMinDocCount={}&sDateEpoch={:.0f}&eDateEpoch={:.0f}\n",
      "duration : 2019-06-17 01:00:00 - 2019-06-17 02:00:00\n",
      "http://commentmoderator.indiatimes.com/mytimes/elasticCommentQuery?appKey={}&sort=desc&from=0&size=0&aggField=F_ADD&aggSize=150&aggMinDocCount={}&sDateEpoch={:.0f}&eDateEpoch={:.0f}\n",
      "duration : 2019-06-17 02:00:00 - 2019-06-17 03:00:00\n",
      "http://commentmoderator.indiatimes.com/mytimes/elasticCommentQuery?appKey={}&sort=desc&from=0&size=0&aggField=F_ADD&aggSize=150&aggMinDocCount={}&sDateEpoch={:.0f}&eDateEpoch={:.0f}\n",
      "duration : 2019-06-17 03:00:00 - 2019-06-17 04:00:00\n",
      "http://commentmoderator.indiatimes.com/mytimes/elasticCommentQuery?appKey={}&sort=desc&from=0&size=0&aggField=F_ADD&aggSize=150&aggMinDocCount={}&sDateEpoch={:.0f}&eDateEpoch={:.0f}\n",
      "duration : 2019-06-17 04:00:00 - 2019-06-17 05:00:00\n",
      "http://commentmoderator.indiatimes.com/mytimes/elasticCommentQuery?appKey={}&sort=desc&from=0&size=0&aggField=F_ADD&aggSize=150&aggMinDocCount={}&sDateEpoch={:.0f}&eDateEpoch={:.0f}\n",
      "duration : 2019-06-17 05:00:00 - 2019-06-17 06:00:00\n",
      "http://commentmoderator.indiatimes.com/mytimes/elasticCommentQuery?appKey={}&sort=desc&from=0&size=0&aggField=F_ADD&aggSize=150&aggMinDocCount={}&sDateEpoch={:.0f}&eDateEpoch={:.0f}\n",
      "duration : 2019-06-17 06:00:00 - 2019-06-17 07:00:00\n",
      "http://commentmoderator.indiatimes.com/mytimes/elasticCommentQuery?appKey={}&sort=desc&from=0&size=0&aggField=F_ADD&aggSize=150&aggMinDocCount={}&sDateEpoch={:.0f}&eDateEpoch={:.0f}\n",
      "{'doc_count': 62, 'key': 'suriyabhai127@gmail.com', 'duration': '2019-06-17 06:00:00 - 2019-06-17 07:00:00'}\n",
      "duration : 2019-06-17 07:00:00 - 2019-06-17 08:00:00\n",
      "http://commentmoderator.indiatimes.com/mytimes/elasticCommentQuery?appKey={}&sort=desc&from=0&size=0&aggField=F_ADD&aggSize=150&aggMinDocCount={}&sDateEpoch={:.0f}&eDateEpoch={:.0f}\n",
      "{'doc_count': 54, 'key': 'suriyabhai127@gmail.com', 'duration': '2019-06-17 07:00:00 - 2019-06-17 08:00:00'}\n",
      "duration : 2019-06-17 08:00:00 - 2019-06-17 09:00:00\n",
      "http://commentmoderator.indiatimes.com/mytimes/elasticCommentQuery?appKey={}&sort=desc&from=0&size=0&aggField=F_ADD&aggSize=150&aggMinDocCount={}&sDateEpoch={:.0f}&eDateEpoch={:.0f}\n",
      "{'doc_count': 43, 'key': 'diligentgemini@gmail.com', 'duration': '2019-06-17 08:00:00 - 2019-06-17 09:00:00'}\n",
      "duration : 2019-06-17 09:00:00 - 2019-06-17 10:00:00\n",
      "http://commentmoderator.indiatimes.com/mytimes/elasticCommentQuery?appKey={}&sort=desc&from=0&size=0&aggField=F_ADD&aggSize=150&aggMinDocCount={}&sDateEpoch={:.0f}&eDateEpoch={:.0f}\n",
      "duration : 2019-06-17 10:00:00 - 2019-06-17 11:00:00\n",
      "http://commentmoderator.indiatimes.com/mytimes/elasticCommentQuery?appKey={}&sort=desc&from=0&size=0&aggField=F_ADD&aggSize=150&aggMinDocCount={}&sDateEpoch={:.0f}&eDateEpoch={:.0f}\n",
      "duration : 2019-06-17 11:00:00 - 2019-06-17 12:00:00\n",
      "http://commentmoderator.indiatimes.com/mytimes/elasticCommentQuery?appKey={}&sort=desc&from=0&size=0&aggField=F_ADD&aggSize=150&aggMinDocCount={}&sDateEpoch={:.0f}&eDateEpoch={:.0f}\n",
      "duration : 2019-06-17 12:00:00 - 2019-06-17 13:00:00\n",
      "http://commentmoderator.indiatimes.com/mytimes/elasticCommentQuery?appKey={}&sort=desc&from=0&size=0&aggField=F_ADD&aggSize=150&aggMinDocCount={}&sDateEpoch={:.0f}&eDateEpoch={:.0f}\n",
      "{'doc_count': 54, 'key': 'rama@perfectvips.com', 'duration': '2019-06-17 12:00:00 - 2019-06-17 13:00:00'}\n",
      "{'doc_count': 43, 'key': 'suriyabhai127@gmail.com', 'duration': '2019-06-17 12:00:00 - 2019-06-17 13:00:00'}\n",
      "{'doc_count': 30, 'key': 'myntracustomerc@gmail.com', 'duration': '2019-06-17 12:00:00 - 2019-06-17 13:00:00'}\n",
      "duration : 2019-06-17 13:00:00 - 2019-06-17 14:00:00\n",
      "http://commentmoderator.indiatimes.com/mytimes/elasticCommentQuery?appKey={}&sort=desc&from=0&size=0&aggField=F_ADD&aggSize=150&aggMinDocCount={}&sDateEpoch={:.0f}&eDateEpoch={:.0f}\n",
      "duration : 2019-06-17 14:00:00 - 2019-06-17 15:00:00\n",
      "http://commentmoderator.indiatimes.com/mytimes/elasticCommentQuery?appKey={}&sort=desc&from=0&size=0&aggField=F_ADD&aggSize=150&aggMinDocCount={}&sDateEpoch={:.0f}&eDateEpoch={:.0f}\n",
      "duration : 2019-06-17 15:00:00 - 2019-06-17 16:00:00\n",
      "http://commentmoderator.indiatimes.com/mytimes/elasticCommentQuery?appKey={}&sort=desc&from=0&size=0&aggField=F_ADD&aggSize=150&aggMinDocCount={}&sDateEpoch={:.0f}&eDateEpoch={:.0f}\n",
      "duration : 2019-06-17 16:00:00 - 2019-06-17 17:00:00\n",
      "http://commentmoderator.indiatimes.com/mytimes/elasticCommentQuery?appKey={}&sort=desc&from=0&size=0&aggField=F_ADD&aggSize=150&aggMinDocCount={}&sDateEpoch={:.0f}&eDateEpoch={:.0f}\n",
      "duration : 2019-06-17 17:00:00 - 2019-06-17 18:00:00\n",
      "http://commentmoderator.indiatimes.com/mytimes/elasticCommentQuery?appKey={}&sort=desc&from=0&size=0&aggField=F_ADD&aggSize=150&aggMinDocCount={}&sDateEpoch={:.0f}&eDateEpoch={:.0f}\n",
      "duration : 2019-06-17 18:00:00 - 2019-06-17 19:00:00\n",
      "http://commentmoderator.indiatimes.com/mytimes/elasticCommentQuery?appKey={}&sort=desc&from=0&size=0&aggField=F_ADD&aggSize=150&aggMinDocCount={}&sDateEpoch={:.0f}&eDateEpoch={:.0f}\n",
      "duration : 2019-06-17 19:00:00 - 2019-06-17 20:00:00\n",
      "http://commentmoderator.indiatimes.com/mytimes/elasticCommentQuery?appKey={}&sort=desc&from=0&size=0&aggField=F_ADD&aggSize=150&aggMinDocCount={}&sDateEpoch={:.0f}&eDateEpoch={:.0f}\n",
      "duration : 2019-06-17 20:00:00 - 2019-06-17 21:00:00\n",
      "http://commentmoderator.indiatimes.com/mytimes/elasticCommentQuery?appKey={}&sort=desc&from=0&size=0&aggField=F_ADD&aggSize=150&aggMinDocCount={}&sDateEpoch={:.0f}&eDateEpoch={:.0f}\n",
      "duration : 2019-06-17 21:00:00 - 2019-06-17 22:00:00\n",
      "http://commentmoderator.indiatimes.com/mytimes/elasticCommentQuery?appKey={}&sort=desc&from=0&size=0&aggField=F_ADD&aggSize=150&aggMinDocCount={}&sDateEpoch={:.0f}&eDateEpoch={:.0f}\n",
      "duration : 2019-06-17 22:00:00 - 2019-06-17 23:00:00\n",
      "http://commentmoderator.indiatimes.com/mytimes/elasticCommentQuery?appKey={}&sort=desc&from=0&size=0&aggField=F_ADD&aggSize=150&aggMinDocCount={}&sDateEpoch={:.0f}&eDateEpoch={:.0f}\n",
      "duration : 2019-06-17 23:00:00 - 2019-06-18 00:00:00\n",
      "http://commentmoderator.indiatimes.com/mytimes/elasticCommentQuery?appKey={}&sort=desc&from=0&size=0&aggField=F_ADD&aggSize=150&aggMinDocCount={}&sDateEpoch={:.0f}&eDateEpoch={:.0f}\n",
      "{'doc_count': 49, 'key': 'dude33745@gmail.com', 'duration': '2019-06-17 23:00:00 - 2019-06-18 00:00:00'}\n"
     ]
    }
   ],
   "source": [
    "net_list_faulty_users = get_list_faulty_users(get_date_time(-1))"
   ]
  },
  {
   "cell_type": "code",
   "execution_count": 136,
   "metadata": {},
   "outputs": [],
   "source": [
    "#sorting the list of users in reverse doc_count\n",
    "net_list_faulty_users.sort(key = lambda x: x[\"doc_count\"], reverse=True)"
   ]
  },
  {
   "cell_type": "code",
   "execution_count": 137,
   "metadata": {},
   "outputs": [
    {
     "name": "stdout",
     "output_type": "stream",
     "text": [
      "{'doc_count': 62, 'key': 'suriyabhai127@gmail.com', 'duration': '2019-06-17 06:00:00 - 2019-06-17 07:00:00'}\n",
      "{'doc_count': 54, 'key': 'suriyabhai127@gmail.com', 'duration': '2019-06-17 07:00:00 - 2019-06-17 08:00:00'}\n",
      "{'doc_count': 54, 'key': 'rama@perfectvips.com', 'duration': '2019-06-17 12:00:00 - 2019-06-17 13:00:00'}\n",
      "{'doc_count': 49, 'key': 'dude33745@gmail.com', 'duration': '2019-06-17 23:00:00 - 2019-06-18 00:00:00'}\n",
      "{'doc_count': 43, 'key': 'diligentgemini@gmail.com', 'duration': '2019-06-17 08:00:00 - 2019-06-17 09:00:00'}\n",
      "{'doc_count': 43, 'key': 'suriyabhai127@gmail.com', 'duration': '2019-06-17 12:00:00 - 2019-06-17 13:00:00'}\n",
      "{'doc_count': 30, 'key': 'myntracustomerc@gmail.com', 'duration': '2019-06-17 12:00:00 - 2019-06-17 13:00:00'}\n"
     ]
    }
   ],
   "source": [
    "for x in net_list_faulty_users:\n",
    "    print(x)"
   ]
  },
  {
   "cell_type": "code",
   "execution_count": 150,
   "metadata": {},
   "outputs": [],
   "source": [
    "def get_mail_body(list_faulty_users):    \n",
    "    html = \"Comment Rate Exceed User Alert<br>http://commentmoderator.indiatimes.com/<br><br>\" \\\n",
    "           + \"<table>\" \\\n",
    "            + \"<tr><td><b>Comment Count</b></td><td><b>Email Id</b></td><td><b>Duration</b></td></tr><tr></tr>\"\n",
    "\n",
    "    for x in list_faulty_users:\n",
    "        html = html + \"<tr><td>{}</td><td>{}</td><td>{}</td></tr>\".format(x['doc_count'], x['key'], x['duration'])\n",
    "    html = html + \"</table>\"\n",
    "    return html"
   ]
  },
  {
   "cell_type": "code",
   "execution_count": 146,
   "metadata": {},
   "outputs": [
    {
     "data": {
      "text/plain": [
       "'Comment Rate Exceed User Alert<br>http://commentmoderator.indiatimes.com/<br><br><table><tr><td><b>Comment Count</b></td><td><b>Email Id</b></td><td><b>Duration</b></td></tr><tr></tr><tr><td>62</td><td>suriyabhai127@gmail.com</td><td>2019-06-17 06:00:00 - 2019-06-17 07:00:00</td></tr><tr><td>54</td><td>suriyabhai127@gmail.com</td><td>2019-06-17 07:00:00 - 2019-06-17 08:00:00</td></tr><tr><td>54</td><td>rama@perfectvips.com</td><td>2019-06-17 12:00:00 - 2019-06-17 13:00:00</td></tr><tr><td>49</td><td>dude33745@gmail.com</td><td>2019-06-17 23:00:00 - 2019-06-18 00:00:00</td></tr><tr><td>43</td><td>diligentgemini@gmail.com</td><td>2019-06-17 08:00:00 - 2019-06-17 09:00:00</td></tr><tr><td>43</td><td>suriyabhai127@gmail.com</td><td>2019-06-17 12:00:00 - 2019-06-17 13:00:00</td></tr><tr><td>30</td><td>myntracustomerc@gmail.com</td><td>2019-06-17 12:00:00 - 2019-06-17 13:00:00</td></tr></table>'"
      ]
     },
     "execution_count": 146,
     "metadata": {},
     "output_type": "execute_result"
    }
   ],
   "source": [
    "get_mail_body(net_list_faulty_users)"
   ]
  },
  {
   "cell_type": "code",
   "execution_count": 90,
   "metadata": {},
   "outputs": [],
   "source": [
    "# try:\n",
    "#     resp = requests.get(url)\n",
    "#     if (resp.status_code == 200):\n",
    "#         bucket = resp.json()['aggregations']['2']['buckets']\n",
    "#     else:\n",
    "#         error_msg = 'failure in aggregation API call : status code - {}'.format(resp.status_code)\n",
    "# except requests.exceptions.Timeout:\n",
    "#     error_msg = \"Internal Api Error : connection timeout\"\n",
    "# except requests.exceptions.ConnectionError:\n",
    "#     error_msg = \"Internal Api Error : connection error\"\n",
    "# except requests.exceptions.RequestException as e:\n",
    "#     logging.error('Exception in get_single_ms_by_api for query_word : {}, error: {}'.format(query_word, e))\n",
    "#     error_msg = \"Internal Api Error : request exception : {}\".format(e)\n",
    "# except JSONDecodeError as ex:\n",
    "#     error_msg = 'unable to parse the aggregation API response as json : {}'.format(ex)\n",
    "# except KeyError as key_error:\n",
    "#     error_msg = 'failure in retrieving json key from response : {}'.format(key_error)"
   ]
  },
  {
   "cell_type": "code",
   "execution_count": 125,
   "metadata": {},
   "outputs": [],
   "source": []
  },
  {
   "cell_type": "code",
   "execution_count": 153,
   "metadata": {},
   "outputs": [],
   "source": [
    "def get_date_time_hour(hour_delta):\n",
    "    \"\"\"\n",
    "    returns datetime object for start-of-day day_delta days from the current datetime\n",
    "    \"\"\"\n",
    "    dtime = datetime.now()\n",
    "    dtime = dtime.replace(minute = 0, second = 0, microsecond = 0)\n",
    "    dtime = dtime + timedelta(hours = hour_delta)\n",
    "    return dtime"
   ]
  },
  {
   "cell_type": "code",
   "execution_count": 156,
   "metadata": {},
   "outputs": [
    {
     "data": {
      "text/plain": [
       "datetime.datetime(2019, 6, 18, 16, 0)"
      ]
     },
     "execution_count": 156,
     "metadata": {},
     "output_type": "execute_result"
    }
   ],
   "source": [
    "get_date_time_hour(-1)"
   ]
  },
  {
   "cell_type": "code",
   "execution_count": null,
   "metadata": {},
   "outputs": [],
   "source": []
  }
 ],
 "metadata": {
  "kernelspec": {
   "display_name": "Python 3",
   "language": "python",
   "name": "python3"
  },
  "language_info": {
   "codemirror_mode": {
    "name": "ipython",
    "version": 3
   },
   "file_extension": ".py",
   "mimetype": "text/x-python",
   "name": "python",
   "nbconvert_exporter": "python",
   "pygments_lexer": "ipython3",
   "version": "3.6.5"
  }
 },
 "nbformat": 4,
 "nbformat_minor": 2
}
