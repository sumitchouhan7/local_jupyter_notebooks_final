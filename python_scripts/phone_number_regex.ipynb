{
 "cells": [
  {
   "cell_type": "code",
   "execution_count": 1,
   "metadata": {},
   "outputs": [],
   "source": [
    "import requests\n",
    "from datetime import datetime, timedelta\n",
    "import math\n",
    "import time"
   ]
  },
  {
   "cell_type": "code",
   "execution_count": 4,
   "metadata": {},
   "outputs": [],
   "source": [
    "def get_date_time_hour(hour_delta):\n",
    "    \"\"\"\n",
    "    returns datetime object for start-of-day day_delta days from the current datetime\n",
    "    \"\"\"\n",
    "    dtime = datetime.now()\n",
    "    dtime = dtime.replace(minute = 0, second = 0, microsecond = 0)\n",
    "    dtime = dtime + timedelta(hours = hour_delta)\n",
    "    return dtime"
   ]
  },
  {
   "cell_type": "code",
   "execution_count": 17,
   "metadata": {},
   "outputs": [],
   "source": [
    "def getModifiedUrl(url, from_param=None, size_param=None, startEpoch=None, endEpoch=None):\n",
    "    result_url = url\n",
    "    if (from_param!=None and size_param!=None):\n",
    "        result_url = result_url + \"&from=\" + str(from_param) + \"&size=\" + str(size_param)\n",
    "    if (startEpoch!=None and endEpoch!=None):\n",
    "        result_url = result_url + \"&sDateEpoch=\" + str(startEpoch) + \"&eDateEpoch=\" + str(endEpoch)\n",
    "    return result_url"
   ]
  },
  {
   "cell_type": "code",
   "execution_count": 42,
   "metadata": {},
   "outputs": [],
   "source": [
    "def process_paginated_comments_from_elastic(url, size_param, force = False, to_process_till = None):\n",
    "    \n",
    "    final_url = getModifiedUrl(url, from_param = 0, size_param = size_param)\n",
    "    json_raw_response = requests.get(final_url).json()\n",
    "\n",
    "    total_comment_count = json_raw_response['hits']['total']\n",
    "    \n",
    "    ELASTIC_LIMIT = 10000\n",
    "    if (to_process_till != None and to_process_till < total_comment_count):\n",
    "        total_comment_count = to_process_till\n",
    "        \n",
    "    if (total_comment_count > ELASTIC_LIMIT):\n",
    "        print(\"total_comment_count greater than {}: {}\".format(ELASTIC_LIMIT, total_comment_count))\n",
    "        if not force:\n",
    "            print(\"aborting\")\n",
    "            return\n",
    "        else:\n",
    "            total_comment_count = ELASTIC_LIMIT\n",
    "    \n",
    "    num_iters = math.ceil(total_comment_count/size_param)\n",
    "\n",
    "    print(\"total_count : {}\".format(total_comment_count))\n",
    "    print(\"num_iters : {}\".format(num_iters))\n",
    "\n",
    "    for iter_val in range(0, num_iters, 1):\n",
    "        print(\"iteration : %d\" %(iter_val))\n",
    "        from_val = iter_val * size_param\n",
    "        final_url = getModifiedUrl(url, from_param = from_val, size_param = size_param)\n",
    "        json_raw_response = requests.get(final_url).json()\n",
    "        list_comments = [(x['_source']['c_id'], x['_source']['C_T']) for x in json_raw_response['hits']['hits']]\n",
    "        process_list_cmts_elastic(list_comments)   "
   ]
  },
  {
   "cell_type": "code",
   "execution_count": 37,
   "metadata": {},
   "outputs": [],
   "source": [
    "def process_list_cmts_elastic(list_comments):\n",
    "    global global_counter\n",
    "    for c_id, c_t in list_comments:\n",
    "        global_counter = global_counter + 1\n",
    "        process_res = process_per_comment(c_t)\n",
    "#         print(\"{:>5}. {} : comment id: {}\".format(global_counter, process_res, c_id))\n",
    "        \n",
    "        if(process_res):\n",
    "            print(\"comment id {} : {}\".format(c_id, process_res))\n",
    "            print(\"comment text : {}\".format(c_t))\n",
    "        else:\n",
    "            print(\"comment id {} : {}\".format(c_id, process_res))"
   ]
  },
  {
   "cell_type": "code",
   "execution_count": 1,
   "metadata": {},
   "outputs": [],
   "source": [
    "import re\n",
    "def process_per_comment(c_text):\n",
    "    c_text = re.sub(\" \", \"\", c_text)\n",
    "    match_found = re.findall('[0-9]{9,}', c_text)\n",
    "    return (True if match_found else False)"
   ]
  },
  {
   "cell_type": "code",
   "execution_count": 40,
   "metadata": {},
   "outputs": [],
   "source": [
    "def get_date_time_from_epoch(time_epoch):\n",
    "    \"\"\"\n",
    "    returns time string formatted in the given format for the given epochs in milliseconds\n",
    "    \"\"\"\n",
    "    return time.strftime('%Y-%m-%d %H:%M:%S', time.localtime(time_epoch/1000))"
   ]
  },
  {
   "cell_type": "code",
   "execution_count": 39,
   "metadata": {},
   "outputs": [
    {
     "name": "stdout",
     "output_type": "stream",
     "text": [
      "duration : 2019-06-21 11:00:00 - 2019-06-21 12:00:00\n",
      "total_count : 43\n",
      "num_iters : 1\n",
      "iteration : 0\n",
      "comment id 2506275397 : False\n",
      "comment id 2506275418 : False\n",
      "comment id 2506275242 : False\n",
      "comment id 2506275268 : False\n",
      "comment id 2506275148 : False\n",
      "comment id 2506275041 : False\n",
      "comment id 2506275007 : False\n",
      "comment id 2506275010 : False\n",
      "comment id 2506274902 : False\n",
      "comment id 2506274892 : False\n",
      "comment id 2506274625 : False\n",
      "comment id 2506274213 : False\n",
      "comment id 2506273945 : False\n",
      "comment id 2506273869 : False\n",
      "comment id 2506273487 : False\n",
      "comment id 2506273402 : False\n",
      "comment id 2506273416 : False\n",
      "comment id 2506272402 : False\n",
      "comment id 2506272278 : False\n",
      "comment id 2506272027 : False\n",
      "comment id 2506271926 : False\n",
      "comment id 2506271872 : False\n",
      "comment id 2506271707 : False\n",
      "comment id 2506271654 : False\n",
      "comment id 2506271262 : False\n",
      "comment id 2506271218 : False\n",
      "comment id 2506271209 : False\n",
      "comment id 2506271061 : False\n",
      "comment id 2506270978 : False\n",
      "comment id 2506270900 : False\n",
      "comment id 2506269978 : False\n",
      "comment id 2506269437 : False\n",
      "comment id 2506269094 : False\n",
      "comment id 2506268904 : False\n",
      "comment id 2506268815 : False\n",
      "comment id 2506268317 : False\n",
      "comment id 2506268276 : False\n",
      "comment id 2506268234 : False\n",
      "comment id 2506268009 : False\n",
      "comment id 2506267797 : False\n",
      "comment id 2506267771 : False\n",
      "comment id 2506267593 : False\n",
      "comment id 2506267394 : False\n"
     ]
    }
   ],
   "source": [
    "batch_write_size = 250\n",
    "url = \"http://commentmoderator.indiatimes.com/mytimes/elasticCommentQuery?sort=desc&filterCommentStatus=APPROVED&appKey=ET\"\n",
    "start_date_time = int(get_date_time_hour(-1).timestamp()*1000)\n",
    "end_date_time = int(get_date_time_hour(0).timestamp()*1000)\n",
    "print(\"duration : {} - {}\".format(get_date_time_from_epoch(start_date_time), get_date_time_from_epoch(end_date_time)))\n",
    "url = getModifiedUrl(url, startEpoch = start_date_time, endEpoch = end_date_time)\n",
    "process_paginated_comments_from_elastic(url, size_param = batch_write_size)"
   ]
  },
  {
   "cell_type": "code",
   "execution_count": 34,
   "metadata": {},
   "outputs": [],
   "source": []
  },
  {
   "cell_type": "code",
   "execution_count": 21,
   "metadata": {},
   "outputs": [],
   "source": [
    "# base_url = \"http://commentmoderator.indiatimes.com/mytimes/elasticCommentQuery?appKey={}&sort=desc&from=0&size=0&aggField=F_ADD&aggSize=150&aggMinDocCount={}&sDateEpoch={:.0f}&eDateEpoch={:.0f}\""
   ]
  },
  {
   "cell_type": "code",
   "execution_count": 22,
   "metadata": {},
   "outputs": [],
   "source": []
  },
  {
   "cell_type": "code",
   "execution_count": 68,
   "metadata": {},
   "outputs": [],
   "source": [
    "import re\n",
    "def process_per_comment_v2(c_text):\n",
    "    c_text = re.sub(\" \", \"\", c_text)\n",
    "\n",
    "    for match in re.findall('[0-9]{9,}', c_text):\n",
    "        if(match[0] in '6,7,8,9,0'.split(\",\")):\n",
    "            return True\n",
    "    return False"
   ]
  },
  {
   "cell_type": "code",
   "execution_count": null,
   "metadata": {},
   "outputs": [],
   "source": []
  },
  {
   "cell_type": "code",
   "execution_count": 70,
   "metadata": {
    "scrolled": true
   },
   "outputs": [
    {
     "data": {
      "text/plain": [
       "True"
      ]
     },
     "execution_count": 70,
     "metadata": {},
     "output_type": "execute_result"
    }
   ],
   "source": [
    "c_text = \"phone par customer service 287628 034786867886769798796856 centre support number 8287628034786867886769798796856====//\"\n",
    "\n",
    "process_per_comment_v2(c_text)"
   ]
  },
  {
   "cell_type": "code",
   "execution_count": null,
   "metadata": {},
   "outputs": [],
   "source": []
  },
  {
   "cell_type": "code",
   "execution_count": null,
   "metadata": {},
   "outputs": [],
   "source": []
  }
 ],
 "metadata": {
  "kernelspec": {
   "display_name": "Python 3",
   "language": "python",
   "name": "python3"
  },
  "language_info": {
   "codemirror_mode": {
    "name": "ipython",
    "version": 3
   },
   "file_extension": ".py",
   "mimetype": "text/x-python",
   "name": "python",
   "nbconvert_exporter": "python",
   "pygments_lexer": "ipython3",
   "version": "3.6.5"
  }
 },
 "nbformat": 4,
 "nbformat_minor": 2
}
