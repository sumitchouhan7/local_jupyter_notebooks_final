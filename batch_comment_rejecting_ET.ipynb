{
 "cells": [
  {
   "cell_type": "code",
   "execution_count": 2,
   "metadata": {},
   "outputs": [],
   "source": [
    "import requests\n",
    "import time"
   ]
  },
  {
   "cell_type": "code",
   "execution_count": 26,
   "metadata": {},
   "outputs": [],
   "source": [
    "base_url = \"http://commentmoderator.indiatimes.com/mytimes/elasticCommentQuery?sort=desc&appKey=ET&filterCommentStatus=APPROVED&queryString=C_T:%22Flipkart%20customer care%20number%22&size=50&from=0\"\n",
    "# base_url = \"http://commentmoderator.indiatimes.com/mytimes/elasticCommentQuery?sort=desc&appKey=ET&filterCommentStatus=APPROVED&queryString=C_T:%22Bhim%20app%20customer%20care%22&size=50&from=0\"\n",
    "# base_url = \"http://commentmoderator.indiatimes.com/mytimes/elasticCommentQuery?sort=desc&appKey=ET&filterCommentStatus=APPROVED&queryString=C_T:%22customer%20care%20number%22&size=50&from=0\""
   ]
  },
  {
   "cell_type": "code",
   "execution_count": 27,
   "metadata": {},
   "outputs": [
    {
     "name": "stdout",
     "output_type": "stream",
     "text": [
      "count left : 17\n",
      "http://myt.indiatimes.com/mytimes/activityInactiveMulti?commentActivityIds=2505103076,2505021376,2504453065,2504426463,2504425210,2504371531,2504281233,2504254405,2504130681,2503884224,2503864781,2503762167,2503715348,2503264242,2503224346,2503093632,2502508579\n",
      "<Response [200]>\n",
      "done\n"
     ]
    }
   ],
   "source": [
    "while(True):    \n",
    "    json_res = requests.get(base_url)\n",
    "    count_left = json_res.json()['hits']['total']\n",
    "    if(count_left<3):\n",
    "        break\n",
    "    print('count left : {}'.format(count_left))\n",
    "    list_cmts = [str(x['_source']['c_id']) for x in json_res.json()['hits']['hits']]\n",
    "    joined_list_cmts = \",\".join(list_cmts)\n",
    "\n",
    "#     reject_url = \"http://myt.indiatimes.com/mytimes/activityInactiveMulti?commentActivityIds=\" + joined_list_cmts\n",
    "    print(reject_url)\n",
    "    print(requests.get(reject_url))\n",
    "    time.sleep(3)\n",
    "print('done')"
   ]
  },
  {
   "cell_type": "code",
   "execution_count": null,
   "metadata": {},
   "outputs": [],
   "source": []
  },
  {
   "cell_type": "code",
   "execution_count": 9,
   "metadata": {},
   "outputs": [
    {
     "name": "stdout",
     "output_type": "stream",
     "text": [
      "http://172.24.81.47/mytimes/updateRestrictedListMemory\n",
      "<Response [200]>\n",
      "http://172.24.82.94/mytimes/updateRestrictedListMemory\n",
      "<Response [200]>\n",
      "http://192.168.43.195/mytimes/updateRestrictedListMemory\n",
      "<Response [200]>\n",
      "http://192.168.43.196/mytimes/updateRestrictedListMemory\n",
      "<Response [200]>\n",
      "http://192.168.43.197/mytimes/updateRestrictedListMemory\n",
      "<Response [200]>\n",
      "http://192.168.36.127/mytimes/updateRestrictedListMemory\n",
      "<Response [200]>\n",
      "http://172.29.16.155/mytimes/updateRestrictedListMemory\n",
      "<Response [200]>\n",
      "http://172.29.16.156/mytimes/updateRestrictedListMemory\n",
      "<Response [200]>\n",
      "http://172.29.16.157/mytimes/updateRestrictedListMemory\n",
      "<Response [200]>\n",
      "http://192.168.43.239/mytimes/updateRestrictedListMemory\n",
      "<Response [200]>\n",
      "http://192.168.43.240/mytimes/updateRestrictedListMemory\n",
      "<Response [200]>\n"
     ]
    }
   ],
   "source": [
    "#updating abusive list memory of all the mytimes servers\n",
    "import requests\n",
    "comma_separated_ips = \"172.24.81.47,172.24.82.94,192.168.43.195,192.168.43.196,192.168.43.197,192.168.36.127,172.29.16.155,172.29.16.156,172.29.16.157,192.168.43.239,192.168.43.240\"\n",
    "server_ip_list = comma_separated_ips.split(\",\")\n",
    "for server_ip in server_ip_list:\n",
    "    url = \"http://{}/mytimes/updateRestrictedListMemory\".format(server_ip)\n",
    "    print(url)\n",
    "    print(requests.get(url))"
   ]
  },
  {
   "cell_type": "code",
   "execution_count": null,
   "metadata": {},
   "outputs": [],
   "source": []
  },
  {
   "cell_type": "code",
   "execution_count": 28,
   "metadata": {},
   "outputs": [],
   "source": [
    "url = \"http://192.168.43.239/mytimes/getFeed/Activity?msid=64117207&curpg=1&appkey=ET&sortcriteria=CreationDate&order=asc&size=100&pagenum=1&withReward=false\""
   ]
  },
  {
   "cell_type": "code",
   "execution_count": 29,
   "metadata": {},
   "outputs": [],
   "source": [
    "json_res = requests.get(url)"
   ]
  },
  {
   "cell_type": "code",
   "execution_count": 30,
   "metadata": {},
   "outputs": [],
   "source": [
    "list_cmts = [x['_id'] for x in json_res.json() if '_id' in x]"
   ]
  },
  {
   "cell_type": "code",
   "execution_count": 31,
   "metadata": {},
   "outputs": [
    {
     "name": "stdout",
     "output_type": "stream",
     "text": [
      "http://commentmoderator.indiatimes.com/mytimes/publishToElasticSearchCommentQueue?commentActivityId=2503669295\n",
      "<Response [200]>\n",
      "http://commentmoderator.indiatimes.com/mytimes/publishToElasticSearchCommentQueue?commentActivityId=2385456546\n",
      "<Response [200]>\n",
      "http://commentmoderator.indiatimes.com/mytimes/publishToElasticSearchCommentQueue?commentActivityId=2385387163\n",
      "<Response [200]>\n",
      "http://commentmoderator.indiatimes.com/mytimes/publishToElasticSearchCommentQueue?commentActivityId=2385347299\n",
      "<Response [200]>\n",
      "http://commentmoderator.indiatimes.com/mytimes/publishToElasticSearchCommentQueue?commentActivityId=2385317137\n",
      "<Response [200]>\n",
      "http://commentmoderator.indiatimes.com/mytimes/publishToElasticSearchCommentQueue?commentActivityId=2385289046\n",
      "<Response [200]>\n",
      "http://commentmoderator.indiatimes.com/mytimes/publishToElasticSearchCommentQueue?commentActivityId=2385284063\n",
      "<Response [200]>\n",
      "http://commentmoderator.indiatimes.com/mytimes/publishToElasticSearchCommentQueue?commentActivityId=2385257045\n",
      "<Response [200]>\n"
     ]
    }
   ],
   "source": [
    "for cmt in list_cmts:\n",
    "    update_ES_url = \"http://commentmoderator.indiatimes.com/mytimes/publishToElasticSearchCommentQueue?commentActivityId={}\".format(cmt)\n",
    "    print(update_ES_url)\n",
    "    print(requests.get(update_ES_url))\n",
    "    time.sleep(1)"
   ]
  },
  {
   "cell_type": "code",
   "execution_count": null,
   "metadata": {},
   "outputs": [],
   "source": []
  }
 ],
 "metadata": {
  "kernelspec": {
   "display_name": "Python 3",
   "language": "python",
   "name": "python3"
  },
  "language_info": {
   "codemirror_mode": {
    "name": "ipython",
    "version": 3
   },
   "file_extension": ".py",
   "mimetype": "text/x-python",
   "name": "python",
   "nbconvert_exporter": "python",
   "pygments_lexer": "ipython3",
   "version": "3.6.5"
  }
 },
 "nbformat": 4,
 "nbformat_minor": 2
}
