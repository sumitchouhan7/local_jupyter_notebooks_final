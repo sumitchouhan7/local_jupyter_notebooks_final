{
 "cells": [
  {
   "cell_type": "code",
   "execution_count": 1,
   "metadata": {},
   "outputs": [],
   "source": [
    "file_path = \"/Users/yash.dalmia/run_update_spam_obj_list.csv\""
   ]
  },
  {
   "cell_type": "code",
   "execution_count": 2,
   "metadata": {},
   "outputs": [],
   "source": [
    "import pandas as pd\n",
    "train=pd.read_csv(file_path, names=['ids'])"
   ]
  },
  {
   "cell_type": "code",
   "execution_count": 3,
   "metadata": {},
   "outputs": [
    {
     "data": {
      "text/plain": [
       "(38, 1)"
      ]
     },
     "execution_count": 3,
     "metadata": {},
     "output_type": "execute_result"
    }
   ],
   "source": [
    "train.shape"
   ]
  },
  {
   "cell_type": "code",
   "execution_count": 4,
   "metadata": {},
   "outputs": [],
   "source": [
    "cmt_list = list(train['ids'])"
   ]
  },
  {
   "cell_type": "code",
   "execution_count": 9,
   "metadata": {},
   "outputs": [
    {
     "data": {
      "text/plain": [
       "38"
      ]
     },
     "execution_count": 9,
     "metadata": {},
     "output_type": "execute_result"
    }
   ],
   "source": [
    "len(cmt_list)"
   ]
  },
  {
   "cell_type": "code",
   "execution_count": 7,
   "metadata": {},
   "outputs": [],
   "source": [
    "import urllib.request"
   ]
  },
  {
   "cell_type": "code",
   "execution_count": 8,
   "metadata": {},
   "outputs": [
    {
     "name": "stdout",
     "output_type": "stream",
     "text": [
      "b'1'\n",
      "b'1'\n",
      "b'1'\n",
      "b'1'\n",
      "b'1'\n",
      "b'1'\n",
      "b'1'\n",
      "b'1'\n",
      "b'1'\n",
      "b'1'\n",
      "b'1'\n",
      "b'1'\n",
      "b'1'\n",
      "b'1'\n",
      "b'1'\n",
      "b'1'\n",
      "b'1'\n",
      "b'1'\n",
      "b'1'\n",
      "b'1'\n",
      "b'1'\n",
      "b'1'\n",
      "b'1'\n",
      "b'1'\n",
      "b'1'\n",
      "b'1'\n",
      "b'1'\n",
      "b'1'\n",
      "b'1'\n",
      "b'1'\n",
      "b'1'\n",
      "b'1'\n",
      "b'1'\n",
      "b'1'\n",
      "b'1'\n",
      "b'1'\n",
      "b'1'\n",
      "b'1'\n"
     ]
    }
   ],
   "source": [
    "# for c_id in cmt_list[:]:\n",
    "#     base_url = \"http://commentmoderator.indiatimes.com/mytimes/updateSpamMLObjForComment?commentId=\"\n",
    "#     url_str = base_url + str(c_id)\n",
    "#     contents = urllib.request.urlopen(url_str).read()\n",
    "#     print (contents)"
   ]
  },
  {
   "cell_type": "code",
   "execution_count": 1,
   "metadata": {},
   "outputs": [
    {
     "ename": "NameError",
     "evalue": "name 'getJsonFromUrl' is not defined",
     "output_type": "error",
     "traceback": [
      "\u001b[0;31m---------------------------------------------------------------------------\u001b[0m",
      "\u001b[0;31mNameError\u001b[0m                                 Traceback (most recent call last)",
      "\u001b[0;32m<ipython-input-1-720f1902644b>\u001b[0m in \u001b[0;36m<module>\u001b[0;34m\u001b[0m\n\u001b[1;32m      1\u001b[0m \u001b[0murl\u001b[0m \u001b[0;34m=\u001b[0m \u001b[0;34m\"http://commentmoderator.indiatimes.com/mytimes/elasticCommentQuery?sort=desc&appKey=TOI&filterCommentStatus=APPROVED&eDate=31%2F12%2F2018&probabilityRange=0.5,1.0&from=0&size=80\"\u001b[0m\u001b[0;34m\u001b[0m\u001b[0m\n\u001b[0;32m----> 2\u001b[0;31m \u001b[0mjson_raw_response\u001b[0m \u001b[0;34m=\u001b[0m \u001b[0mgetJsonFromUrl\u001b[0m\u001b[0;34m(\u001b[0m\u001b[0murl\u001b[0m\u001b[0;34m)\u001b[0m\u001b[0;34m\u001b[0m\u001b[0m\n\u001b[0m\u001b[1;32m      3\u001b[0m \u001b[0mlist_comments\u001b[0m \u001b[0;34m=\u001b[0m \u001b[0;34m[\u001b[0m\u001b[0mx\u001b[0m\u001b[0;34m[\u001b[0m\u001b[0;34m'_source'\u001b[0m\u001b[0;34m]\u001b[0m\u001b[0;34m[\u001b[0m\u001b[0;34m'c_id'\u001b[0m\u001b[0;34m]\u001b[0m \u001b[0;32mfor\u001b[0m \u001b[0mx\u001b[0m \u001b[0;32min\u001b[0m \u001b[0mjson_raw_response\u001b[0m\u001b[0;34m[\u001b[0m\u001b[0;34m'hits'\u001b[0m\u001b[0;34m]\u001b[0m\u001b[0;34m[\u001b[0m\u001b[0;34m'hits'\u001b[0m\u001b[0;34m]\u001b[0m\u001b[0;34m]\u001b[0m\u001b[0;34m\u001b[0m\u001b[0m\n",
      "\u001b[0;31mNameError\u001b[0m: name 'getJsonFromUrl' is not defined"
     ]
    }
   ],
   "source": [
    "url = \"http://commentmoderator.indiatimes.com/mytimes/elasticCommentQuery?sort=desc&appKey=TOI&filterCommentStatus=APPROVED&eDate=31%2F12%2F2018&probabilityRange=0.5,1.0&from=0&size=80\"\n",
    "json_raw_response = getJsonFromUrl(url)\n",
    "list_comments = [x['_source']['c_id'] for x in json_raw_response['hits']['hits']]"
   ]
  },
  {
   "cell_type": "code",
   "execution_count": null,
   "metadata": {},
   "outputs": [],
   "source": [
    "for c_id in list_comments:\n",
    "    base_url = \"http://commentmoderator.indiatimes.com/mytimes/publishToElasticSearchCommentQueue?commentActivityId=\"\n",
    "    #base_url = \"http://commentmoderator.indiatimes.com/mytimes/updateSpamMLObjForComment?commentId=\"\n",
    "    url_str = base_url + str(c_id)\n",
    "    contents = urllib.request.urlopen(url_str).read()\n",
    "    print (contents)"
   ]
  }
 ],
 "metadata": {
  "kernelspec": {
   "display_name": "Python 3",
   "language": "python",
   "name": "python3"
  },
  "language_info": {
   "codemirror_mode": {
    "name": "ipython",
    "version": 3
   },
   "file_extension": ".py",
   "mimetype": "text/x-python",
   "name": "python",
   "nbconvert_exporter": "python",
   "pygments_lexer": "ipython3",
   "version": "3.6.5"
  }
 },
 "nbformat": 4,
 "nbformat_minor": 2
}
