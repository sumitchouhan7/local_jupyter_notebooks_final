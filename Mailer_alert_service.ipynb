{
 "cells": [
  {
   "cell_type": "code",
   "execution_count": 3,
   "metadata": {},
   "outputs": [],
   "source": [
    "import requests\n",
    "from requests.auth import HTTPBasicAuth\n",
    "import time"
   ]
  },
  {
   "cell_type": "code",
   "execution_count": 17,
   "metadata": {},
   "outputs": [],
   "source": [
    "gdpr_unprocessed_api = 'http://172.29.16.100:9099/cron_request?filter={\"ACTION_TYPE\":\"DOWNLOAD_ACTIVITY\",\"IS_PROCESSED\":0}&count'\n",
    "auth_username = 'mytimesread'\n",
    "auth_password = 'mytimesread'\n",
    "\n",
    "def get_gdpr_unprocessed_count():\n",
    "    res = requests.get(gdpr_unprocessed_api, auth=HTTPBasicAuth(auth_username, auth_password))\n",
    "    res_json = res.json()\n",
    "    return res_json['_size']\n",
    "\n",
    "def mailer_alert_gdpr_unprocessed():\n",
    "    UNPROCESSED_THRESHOLD = 5\n",
    "    unprocessed_cnt = get_gdpr_unprocessed_count()\n",
    "    if(unprocessed_cnt > UNPROCESSED_THRESHOLD):\n",
    "        print('GDPR unprocessed count {} is greater than {}'.format(unprocessed_cnt, UNPROCESSED_THRESHOLD))\n",
    "        #         sendMailer()\n",
    "        #         pass\n",
    "    else:\n",
    "        print('GDPR unprocessed count {} is less than {}'.format(unprocessed_cnt, UNPROCESSED_THRESHOLD))"
   ]
  },
  {
   "cell_type": "code",
   "execution_count": 20,
   "metadata": {},
   "outputs": [
    {
     "name": "stdout",
     "output_type": "stream",
     "text": [
      "GDPR unprocessed count 0 is less than 5\n",
      "GDPR unprocessed count 0 is less than 5\n"
     ]
    },
    {
     "ename": "KeyboardInterrupt",
     "evalue": "",
     "output_type": "error",
     "traceback": [
      "\u001b[0;31m---------------------------------------------------------------------------\u001b[0m",
      "\u001b[0;31mKeyboardInterrupt\u001b[0m                         Traceback (most recent call last)",
      "\u001b[0;32m<ipython-input-20-f2ffa3c4fa7a>\u001b[0m in \u001b[0;36m<module>\u001b[0;34m\u001b[0m\n\u001b[1;32m      1\u001b[0m \u001b[0;32mwhile\u001b[0m\u001b[0;34m(\u001b[0m\u001b[0;32mTrue\u001b[0m\u001b[0;34m)\u001b[0m\u001b[0;34m:\u001b[0m\u001b[0;34m\u001b[0m\u001b[0m\n\u001b[1;32m      2\u001b[0m     \u001b[0mmailer_alert_gdpr_unprocessed\u001b[0m\u001b[0;34m(\u001b[0m\u001b[0;34m)\u001b[0m\u001b[0;34m\u001b[0m\u001b[0m\n\u001b[0;32m----> 3\u001b[0;31m     \u001b[0mtime\u001b[0m\u001b[0;34m.\u001b[0m\u001b[0msleep\u001b[0m\u001b[0;34m(\u001b[0m\u001b[0;36m4\u001b[0m\u001b[0;34m)\u001b[0m\u001b[0;34m\u001b[0m\u001b[0m\n\u001b[0m",
      "\u001b[0;31mKeyboardInterrupt\u001b[0m: "
     ]
    }
   ],
   "source": [
    "while(True):\n",
    "    mailer_alert_gdpr_unprocessed()\n",
    "    time.sleep(4)"
   ]
  },
  {
   "cell_type": "code",
   "execution_count": 19,
   "metadata": {},
   "outputs": [
    {
     "name": "stdout",
     "output_type": "stream",
     "text": [
      "GDPR unprocessed count 0 is less than 5\n"
     ]
    }
   ],
   "source": [
    "mailer_alert_gdpr_unprocessed()"
   ]
  },
  {
   "cell_type": "code",
   "execution_count": 13,
   "metadata": {},
   "outputs": [
    {
     "name": "stdout",
     "output_type": "stream",
     "text": [
      "0\n"
     ]
    }
   ],
   "source": []
  },
  {
   "cell_type": "code",
   "execution_count": null,
   "metadata": {},
   "outputs": [],
   "source": []
  }
 ],
 "metadata": {
  "kernelspec": {
   "display_name": "Python 3",
   "language": "python",
   "name": "python3"
  },
  "language_info": {
   "codemirror_mode": {
    "name": "ipython",
    "version": 3
   },
   "file_extension": ".py",
   "mimetype": "text/x-python",
   "name": "python",
   "nbconvert_exporter": "python",
   "pygments_lexer": "ipython3",
   "version": "3.6.5"
  }
 },
 "nbformat": 4,
 "nbformat_minor": 2
}
