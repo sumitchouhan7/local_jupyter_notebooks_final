{
 "cells": [
  {
   "cell_type": "code",
   "execution_count": 134,
   "metadata": {},
   "outputs": [],
   "source": [
    "import requests"
   ]
  },
  {
   "cell_type": "code",
   "execution_count": 167,
   "metadata": {},
   "outputs": [],
   "source": [
    "def get_response(c_text, bool_en):\n",
    "    if bool_en:\n",
    "#         url_to_hit = \"http://172.24.82.74/predict_e\"\n",
    "        url_to_hit = \"http://172.24.82.74/predict\"\n",
    "    else:\n",
    "        url_to_hit = \"http://172.24.82.74/predict_h\"\n",
    "    params = {\"cText\": c_text}\n",
    "    resp = requests.get(url_to_hit, params)\n",
    "    return resp.json()\n",
    "\n",
    "def get_prob(c_text, bool_en):\n",
    "    resp = get_response(c_text, bool_en)\n",
    "    return \"{:.6f}\".format(float(resp['spam probability']))"
   ]
  },
  {
   "cell_type": "code",
   "execution_count": 136,
   "metadata": {},
   "outputs": [],
   "source": [
    "def get_random_text():\n",
    "    total_letters = string.ascii_letters + string.digits + ' '\n",
    "    random_text = \"\".join([random.choice(total_letters) for x in range(25)])\n",
    "    return random_text"
   ]
  },
  {
   "cell_type": "code",
   "execution_count": 159,
   "metadata": {},
   "outputs": [],
   "source": [
    "def execute_one_iter():    \n",
    "    c_text = get_random_text()\n",
    "    prob = get_prob(c_text, True)\n",
    "    print(\"{} : {}\".format(c_text, prob))"
   ]
  },
  {
   "cell_type": "code",
   "execution_count": 163,
   "metadata": {},
   "outputs": [
    {
     "name": "stdout",
     "output_type": "stream",
     "text": [
      "FLUsssOHMJCTbgGhN5ysOf5SL : 0.491166\n"
     ]
    }
   ],
   "source": [
    "execute_one_iter()"
   ]
  },
  {
   "cell_type": "code",
   "execution_count": 164,
   "metadata": {},
   "outputs": [
    {
     "data": {
      "text/plain": [
       "{'base_dir': '/opt/test_spam_ml/spam_ml_frozen_models/model_12Dec_1544432917',\n",
       " 'cText': '6dUCXSGMb4VDyIKgE0GZ6vK4M',\n",
       " 'isSpam': False,\n",
       " 'lan': 'en',\n",
       " 'modified cText': '6ducxsgmb4vdyikge0gz6vk4m',\n",
       " 'rounded prob': '0.49116',\n",
       " 'spam probability': '0.49116597'}"
      ]
     },
     "execution_count": 164,
     "metadata": {},
     "output_type": "execute_result"
    }
   ],
   "source": [
    "get_response(get_random_text(), True)"
   ]
  },
  {
   "cell_type": "code",
   "execution_count": 138,
   "metadata": {},
   "outputs": [],
   "source": [
    "t = timeit.Timer(\"execute_one_iter()\", setup=\"from __main__ import execute_one_iter\")"
   ]
  },
  {
   "cell_type": "code",
   "execution_count": 170,
   "metadata": {},
   "outputs": [
    {
     "name": "stdout",
     "output_type": "stream",
     "text": [
      "ZWKEFHSpiKPMdY9yyvjjBdHVW : 0.491166\n",
      "tNdwnGk4Cw5ILDYjbnA1QSfWy : 0.491166\n",
      "f N x2yytlgH C60l W0 GaFs : 0.993590\n",
      "qh4Fg5DN6Ym00Rp4sgAF2GZGA : 0.491166\n",
      "jM5lPgyLqCmPrZumj SB7OPO6 : 0.491166\n",
      "KgddsjyULCdYXbcCpAfOBM cz : 0.491166\n",
      "QsCW1MDiX3MxnKV6sjNBXKShj : 0.491166\n",
      "Jx8bcQKnMSO1jAFi062bxdPvT : 0.491166\n",
      "lOlFLmaTKPGXuyuvCR7jO34w1 : 0.491166\n",
      "Sk8 cJqbCDmohc3wvoN knk3T : 0.491166\n",
      "JGNM 12MjJWur9cioTWAKFgyz : 0.491166\n",
      "0EFo0NIBNCzUiq2MjhZPwN9WM : 0.491166\n",
      "ixL8KbrFHGnQmM9iUXSgp4cKd : 0.491166\n",
      "vatBH8wjlvQP5RU8yL81xZhue : 0.491166\n",
      "FTpal2oLlN4Bcli1w9voSQFBf : 0.491166\n",
      "hs3NH4sMLy49dJh8yD5jM5IEt : 0.491166\n",
      "FMfWNeVNhUZcLY0FhzCEixA3y : 0.491166\n",
      "X1YpShcZag4WxGY KGiGCHNPX : 0.491166\n",
      "GjZgJK255vr 6tZ4wQ83KNMpE : 0.491166\n",
      "MzyUk9RAw3Q5cTbyiSQWcwPyo : 0.491166\n",
      "Zvd4a0czlpZ8xm0lihOcTw8d6 : 0.491166\n",
      "2z8PtUJqIext3Qqt1 9MVZhoD : 0.491166\n",
      "pBVGZt2hWkl6lZW3IDHQUpV2K : 0.491166\n",
      "7CSczHybLlAS BClk54v ATrL : 0.491166\n",
      "O4q11rs8CX1UkS60UhfZTEpiS : 0.491166\n",
      "W TBJmFEin5X38w2ET905TEmD : 0.029792\n",
      "sdyr45znNk zhoViYgrdo1TPE : 0.491166\n",
      "MaYpm18PuIRI6KfC6XWMbz3T7 : 0.491166\n",
      "wGHzc2DHA2EWPmh a7uhos3i8 : 0.491166\n",
      "1hoUQ9SlPbj5hyCC6hquh7mLA : 0.491166\n",
      "dkar3hJFzCgHFqPWsNmczXjdU : 0.491166\n",
      "VeBjaq1jg4JWEUUrr37NtL9ZV : 0.491166\n",
      "H1LbARYFbLbwq9Hn8m3F1pFBP : 0.491166\n",
      "cHiAR EbbT6nUr3oTJ1JFunxk : 0.491166\n",
      "X xPoYKVZZAaD0XEfXQOLxAOd : 0.011172\n",
      " eJqTBMxI15HyUURiByULqsKJ : 0.491166\n",
      "wq38Rf63p6 krg3TPiFlUTljP : 0.491166\n",
      "pe IuA9FItR08 oo3oqZnFgVd : 0.244463\n",
      "iFbwuPy94zsOHSvkBpqu 26PP : 0.491166\n",
      "DCaeJQ09RNFDrgkfS0UB695ed : 0.491166\n",
      "j pZPMvE Mwi9w2ZmdIzEvxMp : 0.000717\n",
      "5DkWVihLBd P77D98qUudzJMu : 0.491166\n",
      "LYjzV8iqrl7qoD4I1FZmtcp0o : 0.491166\n",
      " 7EspWOWeZKcJb1VkoPlXwvZg : 0.491166\n",
      "Um4PyksCsZc 7Y0yuousW0RR3 : 0.491166\n",
      "JIsBD2oCUpbUNrMLI3x9DgjI8 : 0.491166\n",
      "ZfCVHnXpMX1ESlo4FEw9NAtvO : 0.491166\n",
      "Sw0GJYCGGCZncwm7asO36El 2 : 0.055972\n",
      "JQAcWsjJbTj0zYsenedN3OBVN : 0.491166\n",
      "cgn1FRfZcNgOOrcFEiw2ZK18q : 0.491166\n"
     ]
    },
    {
     "data": {
      "text/plain": [
       "4.367553379999663"
      ]
     },
     "execution_count": 170,
     "metadata": {},
     "output_type": "execute_result"
    }
   ],
   "source": [
    "t.timeit(number=50)"
   ]
  },
  {
   "cell_type": "code",
   "execution_count": 142,
   "metadata": {},
   "outputs": [],
   "source": [
    "# import time\n",
    "# time.sleep(1)"
   ]
  },
  {
   "cell_type": "code",
   "execution_count": 143,
   "metadata": {},
   "outputs": [],
   "source": [
    "# time.sleep(1)"
   ]
  },
  {
   "cell_type": "code",
   "execution_count": 144,
   "metadata": {},
   "outputs": [],
   "source": [
    "import time\n",
    "def sleep_for(num_sec):\n",
    "    time.sleep(num_sec)"
   ]
  },
  {
   "cell_type": "code",
   "execution_count": 146,
   "metadata": {},
   "outputs": [],
   "source": [
    "t2 = timeit.Timer(\"sleep_for(1)\", setup=\"from __main__ import sleep_for\").timeit(number=5)"
   ]
  },
  {
   "cell_type": "code",
   "execution_count": 147,
   "metadata": {},
   "outputs": [
    {
     "name": "stdout",
     "output_type": "stream",
     "text": [
      "5.002741013000559\n"
     ]
    }
   ],
   "source": [
    "print(t2)"
   ]
  },
  {
   "cell_type": "code",
   "execution_count": 148,
   "metadata": {},
   "outputs": [
    {
     "data": {
      "text/plain": [
       "0.13333333333333333"
      ]
     },
     "execution_count": 148,
     "metadata": {},
     "output_type": "execute_result"
    }
   ],
   "source": []
  },
  {
   "cell_type": "code",
   "execution_count": 168,
   "metadata": {},
   "outputs": [
    {
     "data": {
      "text/plain": [
       "0.08251204397998663"
      ]
     },
     "execution_count": 168,
     "metadata": {},
     "output_type": "execute_result"
    }
   ],
   "source": [
    "4.1256021989993314/50"
   ]
  },
  {
   "cell_type": "code",
   "execution_count": null,
   "metadata": {},
   "outputs": [],
   "source": []
  }
 ],
 "metadata": {
  "kernelspec": {
   "display_name": "Python 3",
   "language": "python",
   "name": "python3"
  },
  "language_info": {
   "codemirror_mode": {
    "name": "ipython",
    "version": 3
   },
   "file_extension": ".py",
   "mimetype": "text/x-python",
   "name": "python",
   "nbconvert_exporter": "python",
   "pygments_lexer": "ipython3",
   "version": "3.6.5"
  }
 },
 "nbformat": 4,
 "nbformat_minor": 2
}
