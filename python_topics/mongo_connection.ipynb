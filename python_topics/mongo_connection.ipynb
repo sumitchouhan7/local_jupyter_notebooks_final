{
 "cells": [
  {
   "cell_type": "code",
   "execution_count": 15,
   "metadata": {},
   "outputs": [],
   "source": [
    "from pymongo import MongoClient"
   ]
  },
  {
   "cell_type": "code",
   "execution_count": 1,
   "metadata": {},
   "outputs": [
    {
     "ename": "NameError",
     "evalue": "name 'MongoClient' is not defined",
     "output_type": "error",
     "traceback": [
      "\u001b[0;31m---------------------------------------------------------------------------\u001b[0m",
      "\u001b[0;31mNameError\u001b[0m                                 Traceback (most recent call last)",
      "\u001b[0;32m<ipython-input-1-4b3df5450b29>\u001b[0m in \u001b[0;36m<module>\u001b[0;34m\u001b[0m\n\u001b[1;32m      1\u001b[0m \u001b[0;31m# client = MongoClient('192.168.34.158', 27017)\u001b[0m\u001b[0;34m\u001b[0m\u001b[0;34m\u001b[0m\u001b[0m\n\u001b[0;32m----> 2\u001b[0;31m \u001b[0mclient\u001b[0m \u001b[0;34m=\u001b[0m \u001b[0mMongoClient\u001b[0m\u001b[0;34m(\u001b[0m\u001b[0;34m'192.168.34.158:27017'\u001b[0m\u001b[0;34m,\u001b[0m \u001b[0musername\u001b[0m\u001b[0;34m=\u001b[0m\u001b[0;34m'MTimeStgMngo158'\u001b[0m\u001b[0;34m,\u001b[0m \u001b[0mpassword\u001b[0m\u001b[0;34m=\u001b[0m\u001b[0;34m'MT1meStgMng0158'\u001b[0m\u001b[0;34m,\u001b[0m \u001b[0mauthSource\u001b[0m\u001b[0;34m=\u001b[0m\u001b[0;34m'mytest'\u001b[0m\u001b[0;34m,\u001b[0m \u001b[0mauthMechanism\u001b[0m\u001b[0;34m=\u001b[0m\u001b[0;34m'SCRAM-SHA-1'\u001b[0m\u001b[0;34m)\u001b[0m\u001b[0;34m\u001b[0m\u001b[0m\n\u001b[0m",
      "\u001b[0;31mNameError\u001b[0m: name 'MongoClient' is not defined"
     ]
    }
   ],
   "source": [
    "# client = MongoClient('192.168.34.158', 27017)\n",
    "client = MongoClient('192.168.34.158:27017', username='MTimeStgMngo158', password='MT1meStgMng0158', authSource='mytest', authMechanism='SCRAM-SHA-1')"
   ]
  },
  {
   "cell_type": "code",
   "execution_count": 17,
   "metadata": {},
   "outputs": [],
   "source": [
    "db = client['mytest']"
   ]
  },
  {
   "cell_type": "code",
   "execution_count": 18,
   "metadata": {},
   "outputs": [],
   "source": [
    "users = db.users"
   ]
  },
  {
   "cell_type": "code",
   "execution_count": 19,
   "metadata": {},
   "outputs": [
    {
     "data": {
      "text/plain": [
       "{'_id': 114953,\n",
       " 'uid': 'amcenou92bzp14y5yjynx8ota',\n",
       " 'sso': 'manrajs707@gmail.com',\n",
       " 'GID': 12,\n",
       " 'F_N': 'manrajs',\n",
       " 'L_N': 'manrajs',\n",
       " 'F_C': 0,\n",
       " 'FE_C': 0,\n",
       " 'DOB': 1047407400000,\n",
       " 'GN_C': -1,\n",
       " 'P_V_LS': 'true',\n",
       " 'tiny': 'http://mytimes.indiatimes.com/image/tiny/0/default',\n",
       " 'G': '',\n",
       " 'I_U_A': 'false',\n",
       " 'P_SI': 'true',\n",
       " 'P_R_A_E': 'true',\n",
       " 'U_CD': '2014-08-07 11:00:34.0',\n",
       " 'P_FM': 'true',\n",
       " 'v_w': 'true',\n",
       " 'P_V_E': 'true',\n",
       " 'P_V_C': 'true',\n",
       " 'L_U_DT': '1408001777806',\n",
       " 'EMAIL': 'manrajs707@gmail.com',\n",
       " 'P_WS': 'false',\n",
       " 'P_SIC': 'true',\n",
       " 'profile': 'http://mytimes.indiatimes.com/image/profile/0/default',\n",
       " 'P_IR': 'true',\n",
       " 'P_TF': 'true',\n",
       " 'P_WIF': 'true',\n",
       " 'U_G': '',\n",
       " 'U_RD': '2014-08-07 11:00:34.0',\n",
       " 'P_R_M_W': 'true',\n",
       " 'P_PU': 'true',\n",
       " 'P_PV': 'true',\n",
       " 'FL_N': 'manrajs manrajs',\n",
       " 'CITY': '',\n",
       " 'F_P': {}}"
      ]
     },
     "execution_count": 19,
     "metadata": {},
     "output_type": "execute_result"
    }
   ],
   "source": [
    "users.find_one()"
   ]
  },
  {
   "cell_type": "code",
   "execution_count": null,
   "metadata": {},
   "outputs": [],
   "source": []
  }
 ],
 "metadata": {
  "kernelspec": {
   "display_name": "Python 3",
   "language": "python",
   "name": "python3"
  },
  "language_info": {
   "codemirror_mode": {
    "name": "ipython",
    "version": 3
   },
   "file_extension": ".py",
   "mimetype": "text/x-python",
   "name": "python",
   "nbconvert_exporter": "python",
   "pygments_lexer": "ipython3",
   "version": "3.6.5"
  }
 },
 "nbformat": 4,
 "nbformat_minor": 2
}
