{
 "cells": [
  {
   "cell_type": "code",
   "execution_count": 1,
   "metadata": {},
   "outputs": [],
   "source": [
    "import paramiko\n",
    "import json\n",
    "import configparser"
   ]
  },
  {
   "cell_type": "code",
   "execution_count": 2,
   "metadata": {},
   "outputs": [],
   "source": [
    "multi_line_mongo_servers = \"\"\"\n",
    "#activities cluster\n",
    "192.168.38.238\n",
    "192.168.38.236\n",
    "192.168.42.205\n",
    "192.168.38.237\n",
    "172.24.77.34\n",
    "172.24.77.35\n",
    "\n",
    "#coupan cluster\n",
    "192.168.38.233\n",
    "192.168.38.234\n",
    "192.168.38.235\n",
    "\n",
    "#users cluster\n",
    "192.168.38.230\n",
    "192.168.38.231\n",
    "192.168.38.232\n",
    "172.24.81.74\n",
    "172.24.81.75\n",
    "172.24.80.27\n",
    "\"\"\""
   ]
  },
  {
   "cell_type": "code",
   "execution_count": 13,
   "metadata": {},
   "outputs": [],
   "source": [
    "ssh_config_file_loc = '/Users/yash.dalmia/spam_filter/jupyter_notebooks/config/config.ini'\n",
    "\n",
    "config_ssh = configparser.ConfigParser()\n",
    "config_ssh.read(ssh_config_file_loc)\n",
    "\n",
    "username=config_ssh['LOGIN']['username']\n",
    "password=config_ssh['LOGIN']['password']"
   ]
  },
  {
   "cell_type": "code",
   "execution_count": 4,
   "metadata": {},
   "outputs": [],
   "source": []
  },
  {
   "cell_type": "code",
   "execution_count": 5,
   "metadata": {},
   "outputs": [],
   "source": [
    "def check_jsso_whitelisting(ssh_client):\n",
    "    \"\"\"\n",
    "    checks if the server is jsso whitelisted or not\n",
    "    param : \n",
    "    ssh_client - paramiko.SSHClient() type\n",
    "    \"\"\"\n",
    "    try:\n",
    "        cmd = \"curl 'https://jsso.indiatimes.com/sso/services/ip/get'\"\n",
    "        \n",
    "        stdin, stdout, stderr = ssh_client.exec_command(cmd)\n",
    "        \n",
    "        out = ''.join(stdout.readlines())\n",
    "#         print(out)\n",
    "        \n",
    "        a = json.loads(out)\n",
    "        if (a['status']=='SUCCESS'):\n",
    "            print('server is jsso whitelisted')\n",
    "        else:\n",
    "            print('server is NOT jsso whitelisted')\n",
    "    except Exception as e:\n",
    "        print(e)"
   ]
  },
  {
   "cell_type": "code",
   "execution_count": 6,
   "metadata": {},
   "outputs": [],
   "source": [
    "def check_mongo_whitelisting(ssh_client, mongo_server):\n",
    "    \"\"\"\n",
    "    checks if the mongo server is whitelisted for the server or not\n",
    "    param : \n",
    "    ssh_client - paramiko.SSHClient() type\n",
    "    \"\"\"\n",
    "    try:\n",
    "        port = 27017\n",
    "        cmd = \"telnet {} {}\".format(mongo_server, port)\n",
    "        stdin, stdout, stderr = ssh_client.exec_command(cmd)\n",
    "        stdin.write('''\n",
    "                quit\n",
    "                ''')\n",
    "        out_resp = stdout.readlines()\n",
    "#         print(out_resp)\n",
    "        if(len(out_resp)>1 and out_resp[1].startswith('Connected to')):\n",
    "            \"\"\"\n",
    "            standard response when whitelisted - ['Trying 192.168.34.158...\\r\\n', 'Connected to 192.168.34.158.\\r\\n', \n",
    "            \"Escape character is '^]'.\\r\\n\"]\n",
    "            \"\"\"\n",
    "            print('mongo server {:15} is whitelisted for the given server'.format(mongo_server))\n",
    "        else:\n",
    "            \"\"\"\n",
    "            standard response when not whitelisted - ['Trying 192.168.34.159...\\r\\n']\n",
    "            \"\"\"\n",
    "            print('mongo server {:15} is NOT whitelisted for the given server'.format(mongo_server))\n",
    "    except Exception as e:\n",
    "        print(e)"
   ]
  },
  {
   "cell_type": "code",
   "execution_count": 7,
   "metadata": {},
   "outputs": [],
   "source": [
    "def get_list_from_multi_line_string(multi_line_string):\n",
    "    \"\"\"\n",
    "    returns a list of string from a multi_line_comment excluding comments (those starting with # and blank lines)\n",
    "    \"\"\"\n",
    "    list_all = list()\n",
    "    for server in multi_line_string.split(\"\\n\"):\n",
    "        if(server and not server.startswith('#')):\n",
    "            list_all.append(server)\n",
    "    return list_all"
   ]
  },
  {
   "cell_type": "code",
   "execution_count": 8,
   "metadata": {},
   "outputs": [],
   "source": [
    "list_mongo_servers = get_list_from_multi_line_string(multi_line_mongo_servers)"
   ]
  },
  {
   "cell_type": "code",
   "execution_count": 12,
   "metadata": {
    "scrolled": true
   },
   "outputs": [
    {
     "name": "stdout",
     "output_type": "stream",
     "text": [
      "server ip : 192.168.36.98\n",
      "\n",
      "server is jsso whitelisted\n",
      "\n",
      "mongo server 192.168.38.238  is whitelisted for the given server\n",
      "mongo server 192.168.38.236  is whitelisted for the given server\n",
      "mongo server 192.168.42.205  is whitelisted for the given server\n",
      "mongo server 192.168.38.237  is whitelisted for the given server\n",
      "mongo server 172.24.77.34    is whitelisted for the given server\n",
      "mongo server 172.24.77.35    is whitelisted for the given server\n",
      "mongo server 192.168.38.233  is whitelisted for the given server\n",
      "mongo server 192.168.38.234  is whitelisted for the given server\n",
      "mongo server 192.168.38.235  is whitelisted for the given server\n",
      "mongo server 192.168.38.230  is whitelisted for the given server\n",
      "mongo server 192.168.38.231  is whitelisted for the given server\n",
      "mongo server 192.168.38.232  is whitelisted for the given server\n",
      "mongo server 172.24.81.74    is whitelisted for the given server\n",
      "mongo server 172.24.81.75    is whitelisted for the given server\n",
      "mongo server 172.24.80.27    is whitelisted for the given server\n"
     ]
    }
   ],
   "source": [
    "server_ip = \"192.168.36.98\"\n",
    "\n",
    "print('server ip : {}\\n'.format(server_ip))\n",
    "\n",
    "with paramiko.SSHClient() as ssh_client:\n",
    "    ssh_client.set_missing_host_key_policy(paramiko.AutoAddPolicy())\n",
    "    ssh_client.connect(hostname=server_ip,username=username ,password=password)\n",
    "    check_jsso_whitelisting(ssh_client)\n",
    "    print()\n",
    "    for mongo_server in list_mongo_servers:\n",
    "        check_mongo_whitelisting(ssh_client, mongo_server)"
   ]
  },
  {
   "cell_type": "code",
   "execution_count": null,
   "metadata": {},
   "outputs": [],
   "source": []
  },
  {
   "cell_type": "code",
   "execution_count": 10,
   "metadata": {},
   "outputs": [],
   "source": [
    "# err = ''.join(stderr.readlines())\n",
    "# out = ''.join(stdout.readlines())\n",
    "# final_output = str(out)+str(err)\n",
    "# print(final_output)"
   ]
  },
  {
   "cell_type": "code",
   "execution_count": null,
   "metadata": {},
   "outputs": [],
   "source": []
  }
 ],
 "metadata": {
  "kernelspec": {
   "display_name": "Python 3",
   "language": "python",
   "name": "python3"
  },
  "language_info": {
   "codemirror_mode": {
    "name": "ipython",
    "version": 3
   },
   "file_extension": ".py",
   "mimetype": "text/x-python",
   "name": "python",
   "nbconvert_exporter": "python",
   "pygments_lexer": "ipython3",
   "version": "3.6.5"
  }
 },
 "nbformat": 4,
 "nbformat_minor": 2
}
