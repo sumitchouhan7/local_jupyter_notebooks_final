{
 "cells": [
  {
   "cell_type": "code",
   "execution_count": 188,
   "metadata": {},
   "outputs": [],
   "source": [
    "import configparser\n",
    "import paramiko"
   ]
  },
  {
   "cell_type": "code",
   "execution_count": 189,
   "metadata": {},
   "outputs": [],
   "source": [
    "# file_path = '/opt/mytimes-props/prop/mytimes.properties'\n",
    "file_path = '/opt/batchMyTimes/appConfig.properties'\n",
    "# file_path = '/opt/backup_props/appConfig.properties_backup_19July'\n",
    "\n",
    "server_1 = '192.168.36.98'\n",
    "server_2 = '172.24.81.47'\n",
    "# server_2 = '192.168.43.239'"
   ]
  },
  {
   "cell_type": "code",
   "execution_count": 190,
   "metadata": {},
   "outputs": [],
   "source": [
    "DUMMY_SECTION_NAME = 'dummy_section'\n",
    "\n",
    "def get_generic_config(prop_content, section_name = DUMMY_SECTION_NAME):\n",
    "    \"\"\"\n",
    "    prop_content - file content of the property file\n",
    "    \"\"\"\n",
    "    config_string = '[' + section_name + ']\\n' + prop_content\n",
    "    config = configparser.RawConfigParser()\n",
    "    config.optionxform = str\n",
    "    config.read_string(config_string)\n",
    "    return config\n",
    "\n",
    "def get_dict_config(config, section_name = DUMMY_SECTION_NAME):\n",
    "    return dict(config._sections[section_name])"
   ]
  },
  {
   "cell_type": "code",
   "execution_count": null,
   "metadata": {},
   "outputs": [],
   "source": []
  },
  {
   "cell_type": "code",
   "execution_count": 191,
   "metadata": {},
   "outputs": [],
   "source": [
    "def get_remote_file_content(server_ip, file_path, username, password):\n",
    "    with paramiko.SSHClient() as ssh_client:\n",
    "        ssh_client.set_missing_host_key_policy(paramiko.AutoAddPolicy())\n",
    "        ssh_client.connect(hostname=server_ip,username=username ,password=password)\n",
    "        with ssh_client.open_sftp() as sftp_client:\n",
    "            with sftp_client.open(file_path) as remote_file:\n",
    "                content = remote_file.read()\n",
    "                content = content.decode('utf-8')\n",
    "    return content"
   ]
  },
  {
   "cell_type": "code",
   "execution_count": 192,
   "metadata": {
    "scrolled": true
   },
   "outputs": [
    {
     "data": {
      "text/plain": [
       "['/Users/yash.dalmia/spam_filter/jupyter_notebooks/config/config.ini']"
      ]
     },
     "execution_count": 192,
     "metadata": {},
     "output_type": "execute_result"
    }
   ],
   "source": [
    "ssh_config_file_loc = '/Users/yash.dalmia/spam_filter/jupyter_notebooks/config/config.ini'\n",
    "\n",
    "config_ssh = configparser.ConfigParser()\n",
    "config_ssh.read(ssh_config_file_loc)"
   ]
  },
  {
   "cell_type": "code",
   "execution_count": 193,
   "metadata": {},
   "outputs": [],
   "source": [
    "username=config_ssh['LOGIN']['username']\n",
    "password=config_ssh['LOGIN']['password']\n",
    "\n",
    "def get_config_dict_server(server_ip, file_path = file_path, username = username, password = password):\n",
    "    file_content = get_remote_file_content(server_ip, file_path, username, password)\n",
    "    config_file = get_generic_config(file_content)\n",
    "    dict_config = get_dict_config(config_file)\n",
    "    return dict_config"
   ]
  },
  {
   "cell_type": "code",
   "execution_count": 194,
   "metadata": {},
   "outputs": [],
   "source": [
    "dict_config_1 = get_config_dict_server(server_1)\n",
    "dict_config_2 = get_config_dict_server(server_2)\n",
    "set_1 = set(dict_config_1.items())\n",
    "set_2 = set(dict_config_2.items())"
   ]
  },
  {
   "cell_type": "code",
   "execution_count": 195,
   "metadata": {},
   "outputs": [
    {
     "name": "stdout",
     "output_type": "stream",
     "text": [
      "server 1: 192.168.36.98\n",
      "server 2: 172.24.81.47\n"
     ]
    }
   ],
   "source": [
    "print('server 1: {}\\nserver 2: {}'.format(server_1, server_2))"
   ]
  },
  {
   "cell_type": "code",
   "execution_count": 196,
   "metadata": {},
   "outputs": [],
   "source": [
    "##those in 1 that are different or non-existent in 2\n",
    "# print(set_1 - set_2)"
   ]
  },
  {
   "cell_type": "code",
   "execution_count": 197,
   "metadata": {
    "scrolled": true
   },
   "outputs": [],
   "source": [
    "##those in 2 that are different or non-existent in 1\n",
    "# print(set_2 - set_1)"
   ]
  },
  {
   "cell_type": "code",
   "execution_count": 198,
   "metadata": {},
   "outputs": [],
   "source": [
    "key_set_diff_1_2 = {x[0] for x in (set_1-set_2)}\n",
    "key_set_diff_2_1 = {x[0] for x in (set_2-set_1)}"
   ]
  },
  {
   "cell_type": "code",
   "execution_count": 199,
   "metadata": {
    "scrolled": false
   },
   "outputs": [
    {
     "name": "stdout",
     "output_type": "stream",
     "text": [
      "                                                             192.168.36.98          :          172.24.81.47         \n",
      "\n",
      "pastCmtsBatch.enable                               :             false              :              true             \n",
      "mytimes.profanityFilter.nonLiveRun                 :              true              :                               \n"
     ]
    }
   ],
   "source": [
    "##printing all the differnces between the property file of the two servers in a beautified format \n",
    "print('{:50}   {:^30} : {:^30}\\n'.format('', server_1, server_2))\n",
    "\n",
    "#iterates over those keys which are present on both the servers\n",
    "for common_key in (key_set_diff_1_2 & key_set_diff_2_1):\n",
    "    print('{:50} : {:^30} : {:^30}'.format(common_key, dict_config_1[common_key], dict_config_2[common_key]))\n",
    "\n",
    "#iterates over only those keys that are present on server 1 and not on server 2\n",
    "for key in (key_set_diff_1_2 - key_set_diff_2_1):\n",
    "    print('{:50} : {:^30} : {:^30}'.format(key, dict_config_1[key], ''))\n",
    "\n",
    "#iterates over only those keys that are present on server 2 and not on server 1\n",
    "for key in (key_set_diff_2_1 - key_set_diff_1_2):\n",
    "    print('{:50} : {:^30} : {:^30}'.format(key, '', dict_config_2[key]))"
   ]
  },
  {
   "cell_type": "code",
   "execution_count": null,
   "metadata": {},
   "outputs": [],
   "source": []
  }
 ],
 "metadata": {
  "kernelspec": {
   "display_name": "Python 3",
   "language": "python",
   "name": "python3"
  },
  "language_info": {
   "codemirror_mode": {
    "name": "ipython",
    "version": 3
   },
   "file_extension": ".py",
   "mimetype": "text/x-python",
   "name": "python",
   "nbconvert_exporter": "python",
   "pygments_lexer": "ipython3",
   "version": "3.6.5"
  }
 },
 "nbformat": 4,
 "nbformat_minor": 2
}
