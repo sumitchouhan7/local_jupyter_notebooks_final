{
 "cells": [
  {
   "cell_type": "code",
   "execution_count": 49,
   "metadata": {},
   "outputs": [],
   "source": [
    "GENERIC_MAILER_BASE_URL = \"http://cmsgenericmailer.indiatimes.com/MailServiceWeb/messages/sendMail\""
   ]
  },
  {
   "cell_type": "code",
   "execution_count": 87,
   "metadata": {},
   "outputs": [],
   "source": [
    "senderEmail = \"mailerservice@timesofindia.com\""
   ]
  },
  {
   "cell_type": "code",
   "execution_count": 86,
   "metadata": {},
   "outputs": [],
   "source": [
    "to = \"yash.dalmia@timesinternet.in\";\n",
    "subject = \"GDPR unprocessed count Alert\";\n",
    "body = \"GDPR unprocessed count is more than the defined threshold. Please check urgently.\";"
   ]
  },
  {
   "cell_type": "code",
   "execution_count": 5,
   "metadata": {},
   "outputs": [],
   "source": [
    "import requests"
   ]
  },
  {
   "cell_type": "code",
   "execution_count": 81,
   "metadata": {},
   "outputs": [],
   "source": [
    "class MAILER_OBJECT:\n",
    "    \"\"\"\n",
    "    Generic mailer object to store the fields to be sent in the parameters when hitting generic mailer service\n",
    "    \"\"\"\n",
    "    def __init__(self, recipient_mail, sender_mail, subject, mail_body, cc_mail_list = None, bbc_mail_list = None, sender_name = None):\n",
    "        self.recp = recipient_mail\n",
    "        self.sender = sender_mail\n",
    "        self.sub = subject\n",
    "        self.body = mail_body\n",
    "        self.cc = cc_mail_list\n",
    "        self.bcc = bbc_mail_list\n",
    "        self.sender_name = sender_name"
   ]
  },
  {
   "cell_type": "code",
   "execution_count": 88,
   "metadata": {},
   "outputs": [],
   "source": [
    "mail_obj = MAILER_OBJECT(recipient_mail = to, sender_mail = senderEmail, subject = subject, mail_body = body)"
   ]
  },
  {
   "cell_type": "code",
   "execution_count": 84,
   "metadata": {},
   "outputs": [],
   "source": [
    "def sendMailer(mail_obj):\n",
    "    \"\"\"\n",
    "    sends mailer given the mailer object\n",
    "    \"\"\"\n",
    "    mail_type_val = '9'\n",
    "    host_id = '83'\n",
    "    params = {'RECP': mail_obj.recp,\n",
    "             'SENDER': mail_obj.sender, \n",
    "             'SUB': mail_obj.sub,\n",
    "             'BODY': mail_obj.body, \n",
    "             'MAIL_TP': mail_type_val,\n",
    "             'H_ID': host_id,\n",
    "             'CC': mail_obj.cc,\n",
    "             'BCC': mail_obj.bcc,\n",
    "             'SENDER_NM': mail_obj.sender_name\n",
    "             }\n",
    "    resp = requests.post(url=GENERIC_MAILER_BASE_URL, json=params)\n",
    "    if(resp.status_code == 200):\n",
    "        print('mail sent successfully to {}'.format(mail_obj.recp))\n",
    "        return True\n",
    "    else:\n",
    "        print('failure to send mail with status code: {}'.format(resp.status_code))\n",
    "        return False"
   ]
  },
  {
   "cell_type": "code",
   "execution_count": 83,
   "metadata": {},
   "outputs": [
    {
     "name": "stdout",
     "output_type": "stream",
     "text": [
      "mail sent successfully to yash.dalmia@timesinternet.in\n"
     ]
    },
    {
     "data": {
      "text/plain": [
       "True"
      ]
     },
     "execution_count": 83,
     "metadata": {},
     "output_type": "execute_result"
    }
   ],
   "source": [
    "# sendMailer(mail_obj)"
   ]
  },
  {
   "cell_type": "code",
   "execution_count": 85,
   "metadata": {},
   "outputs": [],
   "source": [
    "def test_func():\n",
    "    print('run test_func')"
   ]
  },
  {
   "cell_type": "code",
   "execution_count": null,
   "metadata": {},
   "outputs": [],
   "source": []
  }
 ],
 "metadata": {
  "kernelspec": {
   "display_name": "Python 3",
   "language": "python",
   "name": "python3"
  },
  "language_info": {
   "codemirror_mode": {
    "name": "ipython",
    "version": 3
   },
   "file_extension": ".py",
   "mimetype": "text/x-python",
   "name": "python",
   "nbconvert_exporter": "python",
   "pygments_lexer": "ipython3",
   "version": "3.6.5"
  }
 },
 "nbformat": 4,
 "nbformat_minor": 2
}
